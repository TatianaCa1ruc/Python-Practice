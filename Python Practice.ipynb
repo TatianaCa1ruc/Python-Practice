{
 "cells": [
  {
   "cell_type": "code",
   "execution_count": 13,
   "id": "d18a195b",
   "metadata": {},
   "outputs": [
    {
     "name": "stdout",
     "output_type": "stream",
     "text": [
      "3.9.12 (main, Apr  4 2022, 05:22:27) [MSC v.1916 64 bit (AMD64)]\n"
     ]
    }
   ],
   "source": [
    "import sys\n",
    "print(sys.version)"
   ]
  },
  {
   "cell_type": "code",
   "execution_count": 18,
   "id": "086dbd77",
   "metadata": {},
   "outputs": [
    {
     "name": "stdout",
     "output_type": "stream",
     "text": [
      "3.9.12\n"
     ]
    }
   ],
   "source": [
    "print(sys.version.split()[0])"
   ]
  },
  {
   "cell_type": "code",
   "execution_count": null,
   "id": "3a757653",
   "metadata": {},
   "outputs": [],
   "source": [
    "for num in range(0,11):\n",
    "    if num%2==0:\n",
    "        print(num)\n",
    "#for num in range(0,11,2):\n",
    "#     print(num)"
   ]
  },
  {
   "cell_type": "code",
   "execution_count": 2,
   "id": "6829fe24",
   "metadata": {},
   "outputs": [
    {
     "data": {
      "text/plain": [
       "[0, 3, 6, 9, 12, 15, 18, 21, 24, 27, 30, 33, 36, 39, 42, 45, 48]"
      ]
     },
     "execution_count": 2,
     "metadata": {},
     "output_type": "execute_result"
    }
   ],
   "source": [
    "#**Use a List Comprehension to create a list of all numbers between 1 and 50 that are divisible by 3.**\n",
    "[x for x in range(0,51) if x%3==0]"
   ]
  },
  {
   "cell_type": "code",
   "execution_count": 7,
   "id": "e6c33c5c",
   "metadata": {},
   "outputs": [
    {
     "name": "stdout",
     "output_type": "stream",
     "text": [
      "WORD Is Even\n",
      "IN Is Even\n",
      "THIS Is Even\n",
      "SENTENCE Is Even\n",
      "THAT Is Even\n",
      "AN Is Even\n",
      "EVEN Is Even\n",
      "NUMBER Is Even\n",
      "OF Is Even\n"
     ]
    }
   ],
   "source": [
    "#**Go through the string below and if the length of a word is even print \"even!\"**\n",
    "\n",
    "st = 'Print every word in this sentence that has an even number of letters'\n",
    "for word in st.split():\n",
    "    if len(word)%2==0:\n",
    "        print(word.upper() + \" Is Even\")"
   ]
  },
  {
   "cell_type": "code",
   "execution_count": 13,
   "id": "d705c2f9",
   "metadata": {},
   "outputs": [
    {
     "name": "stdout",
     "output_type": "stream",
     "text": [
      "FizzBuzz\n",
      "1\n",
      "2\n",
      "Fizz\n",
      "4\n"
     ]
    }
   ],
   "source": [
    "for num in range(0,5):\n",
    "    if num%3==0 and num%5==0:\n",
    "        print (\"FizzBuzz\") \n",
    "    elif num%3==0:\n",
    "        print(\"Fizz\")\n",
    "    elif num %5==0:\n",
    "        print(\"Buzz\")\n",
    "    else :\n",
    "        print(num)\n"
   ]
  },
  {
   "cell_type": "code",
   "execution_count": null,
   "id": "424b130e",
   "metadata": {},
   "outputs": [],
   "source": []
  },
  {
   "cell_type": "code",
   "execution_count": 10,
   "id": "ef3ef69c",
   "metadata": {},
   "outputs": [
    {
     "data": {
      "text/plain": [
       "['C', 'a', 'l', 'o', 't', 'f', 'l', 'o', 'e', 'w', 'i', 't', 's']"
      ]
     },
     "execution_count": 10,
     "metadata": {},
     "output_type": "execute_result"
    }
   ],
   "source": [
    "#**Use List Comprehension to create a list of the first letters of every word in the string below:**\n",
    "st = 'Create a list of the first letters of every word in this string'\n",
    "[word[0] for word in st.split()]"
   ]
  },
  {
   "cell_type": "code",
   "execution_count": 4,
   "id": "726a31b4",
   "metadata": {},
   "outputs": [],
   "source": [
    "countries = ['POL', 'ENG', 'GER', 'USA', 'ITA']\n",
    "is_italy = 'ITA' in countries\n",
    "\n",
    "assert is_italy"
   ]
  },
  {
   "cell_type": "code",
   "execution_count": 5,
   "id": "24fef232",
   "metadata": {},
   "outputs": [
    {
     "data": {
      "text/plain": [
       "['POL', 'ENG', 'GER', 'USA', 'ITA']"
      ]
     },
     "execution_count": 5,
     "metadata": {},
     "output_type": "execute_result"
    }
   ],
   "source": [
    "countries"
   ]
  },
  {
   "cell_type": "code",
   "execution_count": 10,
   "id": "89964002",
   "metadata": {},
   "outputs": [
    {
     "data": {
      "text/plain": [
       "4"
      ]
     },
     "execution_count": 10,
     "metadata": {},
     "output_type": "execute_result"
    }
   ],
   "source": [
    "#The implementation of the max_min_diff() function is given:\n",
    "\n",
    "#def max_min_diff(numbers):\n",
    " \n",
    "#return max(numbers) - min(numbers)\n",
    "\n",
    "#Modify the implementation of the max_min_diff() function. By using the assert statement inside this function, add the ability to check the length of the numbers argument before returning the result. If the length of the numbers object is 0 raise the AssertionError without any message. Otherwise, return the correct result.\n",
    "\n",
    "\n",
    "#In response call max_min_diff() function passing an empty list.\n",
    "\n",
    "def max_min_diff(numbers):\n",
    "    assert len(numbers)!=0\n",
    "    return max(numbers) - min(numbers)\n",
    "    \n",
    "max_min_diff([2,3,5,6])"
   ]
  },
  {
   "cell_type": "code",
   "execution_count": 12,
   "id": "7386e9d0",
   "metadata": {},
   "outputs": [],
   "source": [
    "def max_min_diff(numbers):\n",
    "    assert len(numbers) != 0, 'The numbers object cannot be empty.'\n",
    "    return max(numbers) - min(numbers)\n",
    " \n",
    " \n",
    "if __name__ == '__main__':\n",
    "    max_min_diff([3,8,90,78])"
   ]
  },
  {
   "cell_type": "code",
   "execution_count": null,
   "id": "af6369ba",
   "metadata": {},
   "outputs": [],
   "source": [
    "#The following area() function is given, which returns the area of a rectangle (no argument validation).\n",
    "#def area(width, height):\n",
    " #   return width * height\n",
    "#Assert the following function calls:\n",
    "#area(4, 10)\n",
    "#area(5, 6)\n",
    "#with the appropriate values:\n",
    "#40\n",
    "#30\n",
    "\n",
    "def area(width, height):\n",
    "    return width * height\n",
    "\n",
    "assert area(4,10)==40\n",
    "assert area(5,6)==30"
   ]
  }
 ],
 "metadata": {
  "kernelspec": {
   "display_name": "Python 3 (ipykernel)",
   "language": "python",
   "name": "python3"
  },
  "language_info": {
   "codemirror_mode": {
    "name": "ipython",
    "version": 3
   },
   "file_extension": ".py",
   "mimetype": "text/x-python",
   "name": "python",
   "nbconvert_exporter": "python",
   "pygments_lexer": "ipython3",
   "version": "3.9.12"
  }
 },
 "nbformat": 4,
 "nbformat_minor": 5
}
