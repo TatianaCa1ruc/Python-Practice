{
 "cells": [
  {
   "cell_type": "code",
   "execution_count": 2,
   "id": "74f0d171",
   "metadata": {},
   "outputs": [
    {
     "data": {
      "text/plain": [
       "[4, 6, 8, 10, 12, 14]"
      ]
     },
     "execution_count": 2,
     "metadata": {},
     "output_type": "execute_result"
    }
   ],
   "source": [
    "#Define a function called myfunc that takes in an arbitrary number of arguments,\n",
    "#and returns a list containing only those arguments that are even.\n",
    "\n",
    "def myfunc(*args):\n",
    "    return [x for x in args if x % 2 == 0]\n",
    "        \n",
    "myfunc(3,4,5,6,8,10,12,14)\n"
   ]
  },
  {
   "cell_type": "code",
   "execution_count": 5,
   "id": "5cbf2864",
   "metadata": {},
   "outputs": [
    {
     "data": {
      "text/plain": [
       "'TaTiAnA'"
      ]
     },
     "execution_count": 5,
     "metadata": {},
     "output_type": "execute_result"
    }
   ],
   "source": [
    "#Define a function called myfunc that takes in a string, and returns a matching string where every even letter is uppercase, and every odd letter is lowercase.\n",
    "\n",
    "def myfunc(mystring):\n",
    "    result=''\n",
    "    for index,letter in enumerate(mystring):\n",
    "        if index%2==0:\n",
    "            result+=letter.upper()\n",
    "        else:\n",
    "            result+=letter.lower()\n",
    "    return result\n",
    "\n",
    "myfunc(\"tatiana\")"
   ]
  },
  {
   "cell_type": "code",
   "execution_count": 8,
   "id": "37a1e3a9",
   "metadata": {},
   "outputs": [
    {
     "data": {
      "text/plain": [
       "7"
      ]
     },
     "execution_count": 8,
     "metadata": {},
     "output_type": "execute_result"
    }
   ],
   "source": [
    "def lesser_of_two_evens(a,b):\n",
    "    if a%2==0 and b%2==0:\n",
    "        return min(a,b)\n",
    "    elif a%2!=0 and b%2!=0:\n",
    "        return max(a,b)\n",
    "    else:\n",
    "        pass\n",
    "\n",
    "lesser_of_two_evens(5,7)"
   ]
  },
  {
   "cell_type": "code",
   "execution_count": 21,
   "id": "1d3bf6d3",
   "metadata": {},
   "outputs": [
    {
     "data": {
      "text/plain": [
       "True"
      ]
     },
     "execution_count": 21,
     "metadata": {},
     "output_type": "execute_result"
    }
   ],
   "source": [
    "#### MAKES TWENTY: Given two integers, return True if the sum of the integers is 20 *or* if one of the integers is 20. If not, return False\n",
    "def animal(name):\n",
    "    wordlist=name.split()\n",
    "    return wordlist[0][0]==wordlist[1][0]\n",
    "        \n",
    "        \n",
    "animal('RLili RLilu')\n",
    "        "
   ]
  },
  {
   "cell_type": "code",
   "execution_count": null,
   "id": "0d76ade5",
   "metadata": {},
   "outputs": [],
   "source": []
  },
  {
   "cell_type": "code",
   "execution_count": 115,
   "id": "3fecaf1c",
   "metadata": {},
   "outputs": [],
   "source": [
    "def makes_twenty(n1,n2):\n",
    "    return (n1+n2==20) or (n1==20) or (n2==20)"
   ]
  },
  {
   "cell_type": "code",
   "execution_count": 116,
   "id": "d4cb3ea4",
   "metadata": {},
   "outputs": [
    {
     "data": {
      "text/plain": [
       "True"
      ]
     },
     "execution_count": 116,
     "metadata": {},
     "output_type": "execute_result"
    }
   ],
   "source": [
    "makes_twenty(10,20)\n"
   ]
  },
  {
   "cell_type": "code",
   "execution_count": 117,
   "id": "b1898c8c",
   "metadata": {},
   "outputs": [
    {
     "data": {
      "text/plain": [
       "True"
      ]
     },
     "execution_count": 117,
     "metadata": {},
     "output_type": "execute_result"
    }
   ],
   "source": [
    "makes_twenty(10,10)"
   ]
  },
  {
   "cell_type": "code",
   "execution_count": 118,
   "id": "e034baf5",
   "metadata": {},
   "outputs": [
    {
     "data": {
      "text/plain": [
       "False"
      ]
     },
     "execution_count": 118,
     "metadata": {},
     "output_type": "execute_result"
    }
   ],
   "source": [
    "makes_twenty(10,5)"
   ]
  },
  {
   "cell_type": "code",
   "execution_count": 120,
   "id": "5b688837",
   "metadata": {},
   "outputs": [
    {
     "data": {
      "text/plain": [
       "'TatIana'"
      ]
     },
     "execution_count": 120,
     "metadata": {},
     "output_type": "execute_result"
    }
   ],
   "source": [
    "def old_macdonald(name):\n",
    "    mylist = list(name)\n",
    "    mylist[0] = mylist[0].upper()\n",
    "    mylist[3] = mylist[3].upper()\n",
    "    return ''.join(mylist)\n",
    "\n",
    "old_macdonald(\"tatiana\")"
   ]
  },
  {
   "cell_type": "code",
   "execution_count": 56,
   "id": "5e9bd8bb",
   "metadata": {},
   "outputs": [],
   "source": [
    "def master(sentence):\n",
    "        word=sentence.split()\n",
    "        return ' '.join(word[::-1])\n",
    "        "
   ]
  },
  {
   "cell_type": "code",
   "execution_count": 57,
   "id": "aaea2b8a",
   "metadata": {},
   "outputs": [
    {
     "data": {
      "text/plain": [
       "'NUMBER MY'"
      ]
     },
     "execution_count": 57,
     "metadata": {},
     "output_type": "execute_result"
    }
   ],
   "source": [
    "master('MY NUMBER')"
   ]
  },
  {
   "cell_type": "code",
   "execution_count": 123,
   "id": "a1fa9aec",
   "metadata": {},
   "outputs": [],
   "source": [
    "def master(sentence):\n",
    "    backward=''\n",
    "    mylist=sentence.split()\n",
    "    for words in mylist:\n",
    "        backward+=words[::-1]\n",
    "    return backward\n",
    " \n"
   ]
  },
  {
   "cell_type": "code",
   "execution_count": 124,
   "id": "6d99d32e",
   "metadata": {},
   "outputs": [
    {
     "data": {
      "text/plain": [
       "'erotsREBMUN'"
      ]
     },
     "execution_count": 124,
     "metadata": {},
     "output_type": "execute_result"
    }
   ],
   "source": [
    "master('store NUMBER')"
   ]
  },
  {
   "cell_type": "code",
   "execution_count": 61,
   "id": "63a85285",
   "metadata": {},
   "outputs": [],
   "source": [
    "def master(sentence):\n",
    "    return sentence[::-1]"
   ]
  },
  {
   "cell_type": "code",
   "execution_count": 62,
   "id": "6be5d31f",
   "metadata": {},
   "outputs": [
    {
     "data": {
      "text/plain": [
       "'der si elppa ym'"
      ]
     },
     "execution_count": 62,
     "metadata": {},
     "output_type": "execute_result"
    }
   ],
   "source": [
    "master('my apple is red')"
   ]
  },
  {
   "cell_type": "code",
   "execution_count": 127,
   "id": "040771a7",
   "metadata": {},
   "outputs": [],
   "source": [
    "#ALMOST THERE: Given an integer n, return True if n is within 10 of either 100 or 200\n",
    "def myfunc(n):\n",
    "    return (abs(100-n)<=10) or (abs(200-n)<=10)"
   ]
  },
  {
   "cell_type": "code",
   "execution_count": 129,
   "id": "d2d21143",
   "metadata": {},
   "outputs": [
    {
     "data": {
      "text/plain": [
       "True"
      ]
     },
     "execution_count": 129,
     "metadata": {},
     "output_type": "execute_result"
    }
   ],
   "source": [
    "myfunc(108)"
   ]
  },
  {
   "cell_type": "code",
   "execution_count": 149,
   "id": "02a65789",
   "metadata": {},
   "outputs": [],
   "source": [
    "def has_33(nums):\n",
    "    for i in range(0,len(nums)-1):\n",
    "        if nums[i:i+2]==[3,3]:\n",
    "            return True \n",
    "    return False"
   ]
  },
  {
   "cell_type": "code",
   "execution_count": 150,
   "id": "d296f8d5",
   "metadata": {},
   "outputs": [
    {
     "data": {
      "text/plain": [
       "False"
      ]
     },
     "execution_count": 150,
     "metadata": {},
     "output_type": "execute_result"
    }
   ],
   "source": [
    "has_33((0,2,3,8))"
   ]
  },
  {
   "cell_type": "code",
   "execution_count": 142,
   "id": "72f722a7",
   "metadata": {},
   "outputs": [
    {
     "data": {
      "text/plain": [
       "' helohelohelo'"
      ]
     },
     "execution_count": 142,
     "metadata": {},
     "output_type": "execute_result"
    }
   ],
   "source": [
    "triple_letter(\"helo\")"
   ]
  },
  {
   "cell_type": "code",
   "execution_count": 157,
   "id": "d87648d0",
   "metadata": {},
   "outputs": [],
   "source": [
    "#PAPER DOLL: Given a string, return a string where for every character in the original there are three characters\n",
    "def triple_letter(word):\n",
    "    new_word=\" \"\n",
    "    for letter in word:\n",
    "        new_word+=letter*3\n",
    "    return new_word\n",
    "    "
   ]
  },
  {
   "cell_type": "code",
   "execution_count": 158,
   "id": "12486803",
   "metadata": {},
   "outputs": [
    {
     "data": {
      "text/plain": [
       "' mmmaaammmaaa'"
      ]
     },
     "execution_count": 158,
     "metadata": {},
     "output_type": "execute_result"
    }
   ],
   "source": [
    "triple_letter(\"mama\")"
   ]
  },
  {
   "cell_type": "code",
   "execution_count": 187,
   "id": "621ae5a8",
   "metadata": {},
   "outputs": [],
   "source": [
    "\"\"#BLACKJACK: Given three integers between 1 and 11, if their sum is less than or equal to 21, return their sum. \n",
    "#If their sum exceeds 21 and there's an eleven, reduce the total sum by 10.\n",
    "#Finally, if the sum (even after adjustment) exceeds 21, return 'BUST'\n",
    "\n",
    "def numbers(a,b,c):\n",
    "    if sum([a,b,c])<=21:\n",
    "        return sum([a,b,c])\n",
    "    elif 11 in [a,b,c] and sum([a,b,c])<=31:\n",
    "        return sum([a,b,c])-10\n",
    "    else: \n",
    "        return \"Bust\"\n",
    "    \n",
    "            "
   ]
  },
  {
   "cell_type": "code",
   "execution_count": 189,
   "id": "afc30f78",
   "metadata": {},
   "outputs": [
    {
     "data": {
      "text/plain": [
       "19"
      ]
     },
     "execution_count": 189,
     "metadata": {},
     "output_type": "execute_result"
    }
   ],
   "source": [
    "numbers(11,9,9)"
   ]
  },
  {
   "cell_type": "code",
   "execution_count": 193,
   "id": "bdc66bf9",
   "metadata": {},
   "outputs": [],
   "source": [
    "#SUMMER OF '69: Return the sum of the numbers in the array,\n",
    "#except ignore sections of numbers starting with a 6 and extending to the next 9 \n",
    "#(every 6 will be followed by at least one 9). Return 0 for no numbers.\n",
    "\n",
    "def num_69(numbers):\n",
    "    total=0\n",
    "    add=True\n",
    "    \n",
    "    for number in numbers:\n",
    "        while add:\n",
    "            if number!=6:\n",
    "                total+=number\n",
    "                break\n",
    "            else:\n",
    "                add=False \n",
    "        while not add:\n",
    "            if number!=9:\n",
    "                break \n",
    "            else:\n",
    "                add=True \n",
    "                break \n",
    "    return total \n",
    "    "
   ]
  },
  {
   "cell_type": "code",
   "execution_count": 197,
   "id": "f9d093bb",
   "metadata": {},
   "outputs": [
    {
     "data": {
      "text/plain": [
       "15"
      ]
     },
     "execution_count": 197,
     "metadata": {},
     "output_type": "execute_result"
    }
   ],
   "source": [
    "num_69([1,1,3,6,7,8,9,10])"
   ]
  },
  {
   "cell_type": "code",
   "execution_count": 201,
   "id": "965fbeb4",
   "metadata": {},
   "outputs": [],
   "source": [
    "#SPY GAME: Write a function that takes in a list of integers and returns True if it contains 007 in order\n",
    "\n",
    "def spy_game(numbers):\n",
    "    code=[0,0,7,\"a\"]\n",
    "    \n",
    "    for num in numbers:\n",
    "         if num==code[0]:\n",
    "            code.pop(0)\n",
    "            \n",
    "    return len(code)==1\n",
    "    "
   ]
  },
  {
   "cell_type": "code",
   "execution_count": 204,
   "id": "79ee9634",
   "metadata": {},
   "outputs": [
    {
     "data": {
      "text/plain": [
       "False"
      ]
     },
     "execution_count": 204,
     "metadata": {},
     "output_type": "execute_result"
    }
   ],
   "source": [
    "spy_game([1,2,0,5,1,8,9,1,7])"
   ]
  },
  {
   "cell_type": "code",
   "execution_count": 54,
   "id": "e68b24ae",
   "metadata": {},
   "outputs": [],
   "source": [
    "#wrong\n",
    "#COUNT PRIMES: Write a function that returns the number of prime numbers that exist up to and including a given number\n",
    "\n",
    "def primes(num):\n",
    "    \n",
    "    if num<2:\n",
    "        return 0\n",
    "    \n",
    "    prime=[2]\n",
    "    x=3\n",
    "    \n",
    "    while x<=num:\n",
    "        for y in range(3,x+2,2):\n",
    "#             print(\"print y:\",y)\n",
    "            if x%y == 0:\n",
    "                x+=2\n",
    "                break \n",
    "            else:\n",
    "                prime.append(x)\n",
    "                x+=2\n",
    "#         print('print x:',x)\n",
    "    print (prime)\n",
    "    return len(prime)\n",
    "    \n",
    "\n",
    "\n",
    "    \n",
    "        \n",
    "   "
   ]
  },
  {
   "cell_type": "code",
   "execution_count": 55,
   "id": "8b4d1991",
   "metadata": {},
   "outputs": [
    {
     "name": "stdout",
     "output_type": "stream",
     "text": [
      "[2]\n"
     ]
    },
    {
     "data": {
      "text/plain": [
       "1"
      ]
     },
     "execution_count": 55,
     "metadata": {},
     "output_type": "execute_result"
    }
   ],
   "source": [
    "primes(3)\n"
   ]
  },
  {
   "cell_type": "code",
   "execution_count": 48,
   "id": "5f7e2210",
   "metadata": {},
   "outputs": [],
   "source": [
    "def count_primes(num):\n",
    "    if num<2:\n",
    "        return 0\n",
    "    \n",
    "    counter = 0\n",
    "    primen=[2]\n",
    "    for n in range(3,num+1):\n",
    "        prime=True\n",
    "        for i in range(3,n,2):\n",
    "            if(n%i == 0):\n",
    "                prime=False\n",
    "                break\n",
    "        if prime:\n",
    "            primen.append(n)\n",
    "            counter += 1       \n",
    "    print (primen)       \n",
    "    return counter\n",
    "  "
   ]
  },
  {
   "cell_type": "code",
   "execution_count": 60,
   "id": "966f1a0c",
   "metadata": {},
   "outputs": [
    {
     "name": "stdout",
     "output_type": "stream",
     "text": [
      "[2, 3, 4, 5, 7, 8, 11, 13, 16, 17, 19, 23]\n"
     ]
    },
    {
     "data": {
      "text/plain": [
       "11"
      ]
     },
     "execution_count": 60,
     "metadata": {},
     "output_type": "execute_result"
    }
   ],
   "source": [
    "count_primes(25)"
   ]
  },
  {
   "cell_type": "code",
   "execution_count": 56,
   "id": "2e8c76d8",
   "metadata": {},
   "outputs": [
    {
     "name": "stdout",
     "output_type": "stream",
     "text": [
      "[2, 3, 5, 7, 11, 13, 17, 19, 23, 29, 31, 37, 41, 43, 47, 53, 59, 61, 67, 71, 73, 79, 83, 89, 97]\n"
     ]
    },
    {
     "data": {
      "text/plain": [
       "25"
      ]
     },
     "execution_count": 56,
     "metadata": {},
     "output_type": "execute_result"
    }
   ],
   "source": [
    "def count_primes2(num):\n",
    "    primes = [2]\n",
    "    x = 3\n",
    "    if num < 2:\n",
    "        return 0\n",
    "    while x <= num:\n",
    "        for y in primes:  # use the primes list!\n",
    "            if x%y == 0:\n",
    "                x += 2\n",
    "                break\n",
    "        else:\n",
    "            primes.append(x)\n",
    "            x += 2\n",
    "    print(primes)\n",
    "    return len(primes)\n",
    "count_primes2(100)"
   ]
  },
  {
   "cell_type": "code",
   "execution_count": 59,
   "id": "7802973e",
   "metadata": {},
   "outputs": [
    {
     "name": "stdout",
     "output_type": "stream",
     "text": [
      "*****\n",
      "*    \n",
      "*    \n",
      "*    \n",
      "*****\n"
     ]
    }
   ],
   "source": [
    "#PRINT BIG: Write a function that takes in a single letter, and returns a 5x5 representation of that letter\n",
    "def print_big(letter):\n",
    "    patterns = {1:'  *  ',2:' * * ',3:'*   *',4:'*****',5:'**** ',6:'   * ',7:' *   ',8:'*   * ',9:'*    '}\n",
    "    alphabet = {'A':[1,2,4,3,3],'B':[5,3,5,3,5],'C':[4,9,9,9,4],'D':[5,3,3,3,5],'E':[4,9,4,9,4]}\n",
    "    for pattern in alphabet[letter.upper()]:\n",
    "        print(patterns[pattern])\n",
    "print_big('c')"
   ]
  },
  {
   "cell_type": "code",
   "execution_count": null,
   "id": "222dadab",
   "metadata": {},
   "outputs": [],
   "source": []
  }
 ],
 "metadata": {
  "kernelspec": {
   "display_name": "Python 3 (ipykernel)",
   "language": "python",
   "name": "python3"
  },
  "language_info": {
   "codemirror_mode": {
    "name": "ipython",
    "version": 3
   },
   "file_extension": ".py",
   "mimetype": "text/x-python",
   "name": "python",
   "nbconvert_exporter": "python",
   "pygments_lexer": "ipython3",
   "version": "3.9.12"
  }
 },
 "nbformat": 4,
 "nbformat_minor": 5
}
