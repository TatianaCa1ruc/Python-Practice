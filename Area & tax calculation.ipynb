{
 "cells": [
  {
   "cell_type": "code",
   "execution_count": 9,
   "id": "74e7e663",
   "metadata": {},
   "outputs": [
    {
     "data": {
      "text/plain": [
       "20"
      ]
     },
     "execution_count": 9,
     "metadata": {},
     "output_type": "execute_result"
    }
   ],
   "source": [
    "def area(width, height):\n",
    "    \"\"\"The function returns the area of the rectangle.\"\"\"\n",
    " \n",
    "    if not (isinstance(width, int) and isinstance(height, int)):\n",
    "        raise TypeError(\n",
    "            'The width and height must be of type int.'\n",
    "        )\n",
    " \n",
    "    if not (width > 0 and height > 0):\n",
    "        raise ValueError(\n",
    "            'The width and height must be positive.'\n",
    "        )\n",
    " \n",
    "    return width * height\n",
    "\n",
    "area(4,5)\n",
    "        "
   ]
  },
  {
   "cell_type": "code",
   "execution_count": 13,
   "id": "b130048c",
   "metadata": {},
   "outputs": [],
   "source": [
    "def calculate_tax(amount, tax_rate, age):\n",
    "    \"\"\"The function returns the amount of income tax.\"\"\"\n",
    " \n",
    "    if age <= 18:\n",
    "        return int(min(amount * tax_rate, 5000))\n",
    "    elif age <= 65:\n",
    "        return int(amount * tax_rate)\n",
    "    else:\n",
    "        return int(min(amount * tax_rate, 8000))\n",
    " \n",
    " \n",
    "def test_calculate_tax():\n",
    "    assert calculate_tax(60000, 0.15, 10) == 5000\n",
    "    assert calculate_tax(60000, 0.15, 18) == 5000\n",
    "    assert calculate_tax(60000, 0.15, 19) == 9000\n",
    "    assert calculate_tax(60000, 0.15, 65) == 9000\n",
    "    assert calculate_tax(60000, 0.15, 66) == 8000\n",
    " \n",
    " \n",
    "test_calculate_tax()\n",
    "    "
   ]
  },
  {
   "cell_type": "code",
   "execution_count": null,
   "id": "cbc70ccb",
   "metadata": {},
   "outputs": [],
   "source": []
  }
 ],
 "metadata": {
  "kernelspec": {
   "display_name": "Python 3 (ipykernel)",
   "language": "python",
   "name": "python3"
  },
  "language_info": {
   "codemirror_mode": {
    "name": "ipython",
    "version": 3
   },
   "file_extension": ".py",
   "mimetype": "text/x-python",
   "name": "python",
   "nbconvert_exporter": "python",
   "pygments_lexer": "ipython3",
   "version": "3.9.12"
  }
 },
 "nbformat": 4,
 "nbformat_minor": 5
}
